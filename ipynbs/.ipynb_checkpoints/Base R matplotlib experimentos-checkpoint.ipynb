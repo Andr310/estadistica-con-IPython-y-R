{
 "metadata": {
  "name": ""
 },
 "nbformat": 3,
 "nbformat_minor": 0,
 "worksheets": [
  {
   "cells": [
    {
     "cell_type": "heading",
     "level": 1,
     "metadata": {},
     "source": [
      "Estadisticas usando R y python"
     ]
    },
    {
     "cell_type": "heading",
     "level": 6,
     "metadata": {},
     "source": [
      "Referencias:\n",
      "Introducci\u00f3n a R [URL]\n"
     ]
    },
    {
     "cell_type": "markdown",
     "metadata": {},
     "source": [
      "Cargar libreria para hacer gr\u00e1ficos"
     ]
    },
    {
     "cell_type": "code",
     "collapsed": false,
     "input": [
      "%matplotlib inline"
     ],
     "language": "python",
     "metadata": {},
     "outputs": [],
     "prompt_number": 144
    },
    {
     "cell_type": "markdown",
     "metadata": {},
     "source": [
      "Importamos la libreria para poder escribir en R en esta notebook"
     ]
    },
    {
     "cell_type": "code",
     "collapsed": false,
     "input": [
      "%load_ext rmagic"
     ],
     "language": "python",
     "metadata": {},
     "outputs": [
      {
       "output_type": "stream",
       "stream": "stdout",
       "text": [
        "The rmagic extension is already loaded. To reload it, use:\n",
        "  %reload_ext rmagic\n"
       ]
      }
     ],
     "prompt_number": 145
    },
    {
     "cell_type": "raw",
     "metadata": {},
     "source": [
      "Con el prefijo %R podemos escribir y procesar directo en R.\n",
      "En lugar del '=' para las asignaciones usamos el '<-' \n",
      "Por ejemplo podemos definir el vector 'x' con tres elementos:"
     ]
    },
    {
     "cell_type": "code",
     "collapsed": false,
     "input": [
      "%R x <- c(8, 9.1, 4, 2)"
     ],
     "language": "python",
     "metadata": {},
     "outputs": [
      {
       "metadata": {},
       "output_type": "pyout",
       "prompt_number": 146,
       "text": [
        "array([ 8. ,  9.1,  4. ,  2. ])"
       ]
      }
     ],
     "prompt_number": 146
    },
    {
     "cell_type": "markdown",
     "metadata": {},
     "source": [
      "Otra forma de asignar es la funcion asign(object, value)"
     ]
    },
    {
     "cell_type": "code",
     "collapsed": false,
     "input": [
      "%R assign(\"x\", c(10.4, 5.6, 3.1, 6.4, 21.7))"
     ],
     "language": "python",
     "metadata": {},
     "outputs": [
      {
       "metadata": {},
       "output_type": "pyout",
       "prompt_number": 147,
       "text": [
        "array([ 10.4,   5.6,   3.1,   6.4,  21.7])"
       ]
      }
     ],
     "prompt_number": 147
    },
    {
     "cell_type": "markdown",
     "metadata": {},
     "source": [
      "Tambien se pueden definir vectores como rangos de numeros con start:fin"
     ]
    },
    {
     "cell_type": "code",
     "collapsed": false,
     "input": [
      "%R x <- 4:7"
     ],
     "language": "python",
     "metadata": {},
     "outputs": [
      {
       "metadata": {},
       "output_type": "pyout",
       "prompt_number": 148,
       "text": [
        "array([4, 5, 6, 7], dtype=int32)"
       ]
      }
     ],
     "prompt_number": 148
    },
    {
     "cell_type": "markdown",
     "metadata": {},
     "source": [
      "Los numeros sueltos tambien se consideran vectores"
     ]
    },
    {
     "cell_type": "code",
     "collapsed": false,
     "input": [
      "%R x <- 5"
     ],
     "language": "python",
     "metadata": {},
     "outputs": [
      {
       "metadata": {},
       "output_type": "pyout",
       "prompt_number": 149,
       "text": [
        "array([ 5.])"
       ]
      }
     ],
     "prompt_number": 149
    },
    {
     "cell_type": "markdown",
     "metadata": {},
     "source": [
      "Los vectores son conjuntos de elementos del mismo tipo. Si se cambia el tipo de uno de los elementos el vector se acomoda. \n",
      "Tambien pueden ser de cadenas de caracteres o booleanos."
     ]
    },
    {
     "cell_type": "code",
     "collapsed": false,
     "input": [
      "%R x <- 1:5"
     ],
     "language": "python",
     "metadata": {},
     "outputs": [
      {
       "metadata": {},
       "output_type": "pyout",
       "prompt_number": 150,
       "text": [
        "array([1, 2, 3, 4, 5], dtype=int32)"
       ]
      }
     ],
     "prompt_number": 150
    },
    {
     "cell_type": "code",
     "collapsed": false,
     "input": [
      "%R x[3] <- \"Hola mundo\"\n",
      "%R x"
     ],
     "language": "python",
     "metadata": {},
     "outputs": [
      {
       "metadata": {},
       "output_type": "pyout",
       "prompt_number": 151,
       "text": [
        "array(['1', '2', 'Hola mundo', '4', '5'], \n",
        "      dtype='|S10')"
       ]
      }
     ],
     "prompt_number": 151
    },
    {
     "cell_type": "markdown",
     "metadata": {},
     "source": [
      "Como en otros lenguajes podemos acceder a los elemetos del vector llamandolo por el indice"
     ]
    },
    {
     "cell_type": "code",
     "collapsed": false,
     "input": [
      "%R x[1]"
     ],
     "language": "python",
     "metadata": {},
     "outputs": [
      {
       "metadata": {},
       "output_type": "pyout",
       "prompt_number": 152,
       "text": [
        "array(['1'], \n",
        "      dtype='|S1')"
       ]
      }
     ],
     "prompt_number": 152
    },
    {
     "cell_type": "markdown",
     "metadata": {},
     "source": [
      "Filtramos por ejemplo del vector x aquellos valores mayores o iguales a 8"
     ]
    },
    {
     "cell_type": "code",
     "collapsed": false,
     "input": [
      "%R x[x >= 8]"
     ],
     "language": "python",
     "metadata": {},
     "outputs": [
      {
       "metadata": {},
       "output_type": "pyout",
       "prompt_number": 153,
       "text": [
        "array(['Hola mundo'], \n",
        "      dtype='|S10')"
       ]
      }
     ],
     "prompt_number": 153
    },
    {
     "cell_type": "markdown",
     "metadata": {},
     "source": [
      "En R podemos eliminar uno o m\u00e1s objetos con \"rm\". rm(x[, y][, z], etc) "
     ]
    },
    {
     "cell_type": "code",
     "collapsed": false,
     "input": [
      "%R rm(x)"
     ],
     "language": "python",
     "metadata": {},
     "outputs": [],
     "prompt_number": 154
    },
    {
     "cell_type": "code",
     "collapsed": false,
     "input": [
      "%R x"
     ],
     "language": "python",
     "metadata": {},
     "outputs": [
      {
       "output_type": "stream",
       "stream": "stdout",
       "text": [
        "Error in eval(expr, envir, enclos) : object 'x' not found\n"
       ]
      }
     ],
     "prompt_number": 155
    },
    {
     "cell_type": "code",
     "collapsed": false,
     "input": [
      "%R x <- 1:10"
     ],
     "language": "python",
     "metadata": {},
     "outputs": [
      {
       "metadata": {},
       "output_type": "pyout",
       "prompt_number": 156,
       "text": [
        "array([ 1,  2,  3,  4,  5,  6,  7,  8,  9, 10], dtype=int32)"
       ]
      }
     ],
     "prompt_number": 156
    },
    {
     "cell_type": "markdown",
     "metadata": {},
     "source": [
      "Podemos asignar valores de R hacia variables de python.\n",
      "Esto no es una propiedad de R, lo permite la librer\u00eda rmagic"
     ]
    },
    {
     "cell_type": "code",
     "collapsed": false,
     "input": [
      "px = %R x"
     ],
     "language": "python",
     "metadata": {},
     "outputs": [],
     "prompt_number": 157
    },
    {
     "cell_type": "code",
     "collapsed": false,
     "input": [
      "px"
     ],
     "language": "python",
     "metadata": {},
     "outputs": [
      {
       "metadata": {},
       "output_type": "pyout",
       "prompt_number": 158,
       "text": [
        "array([ 1,  2,  3,  4,  5,  6,  7,  8,  9, 10], dtype=int32)"
       ]
      }
     ],
     "prompt_number": 158
    },
    {
     "cell_type": "markdown",
     "metadata": {},
     "source": [
      "Podemos ver resultados de c\u00e1lculos sobre el vector con bastante rapidez."
     ]
    },
    {
     "cell_type": "code",
     "collapsed": false,
     "input": [
      "%R 1/x"
     ],
     "language": "python",
     "metadata": {},
     "outputs": [
      {
       "metadata": {},
       "output_type": "pyout",
       "prompt_number": 140,
       "text": [
        "array([ 1.        ,  0.5       ,  0.33333333,  0.25      ,  0.2       ,\n",
        "        0.16666667,  0.14285714,  0.125     ,  0.11111111,  0.1       ])"
       ]
      }
     ],
     "prompt_number": 140
    },
    {
     "cell_type": "code",
     "collapsed": false,
     "input": [
      "%R x ^ 2"
     ],
     "language": "python",
     "metadata": {},
     "outputs": [
      {
       "metadata": {},
       "output_type": "pyout",
       "prompt_number": 141,
       "text": [
        "array([   1.,    4.,    9.,   16.,   25.,   36.,   49.,   64.,   81.,  100.])"
       ]
      }
     ],
     "prompt_number": 141
    },
    {
     "cell_type": "markdown",
     "metadata": {},
     "source": [
      "Incluso c\u00e1lculos entre vectores"
     ]
    },
    {
     "cell_type": "code",
     "collapsed": false,
     "input": [
      "%R y <- 3:12\n",
      "%R x + y"
     ],
     "language": "python",
     "metadata": {},
     "outputs": [
      {
       "metadata": {},
       "output_type": "pyout",
       "prompt_number": 142,
       "text": [
        "array([ 4,  6,  8, 10, 12, 14, 16, 18, 20, 22], dtype=int32)"
       ]
      }
     ],
     "prompt_number": 142
    },
    {
     "cell_type": "markdown",
     "metadata": {},
     "source": [
      "Si dos vectores tienen diferente tama\u00f1o el mas corto se replica las veces que sea necesario para poder terminar el calculo"
     ]
    },
    {
     "cell_type": "code",
     "collapsed": false,
     "input": [
      "%R z <- c(1, 2)\n",
      "%R x + z"
     ],
     "language": "python",
     "metadata": {},
     "outputs": [
      {
       "metadata": {},
       "output_type": "pyout",
       "prompt_number": 143,
       "text": [
        "array([  2.,   4.,   4.,   6.,   6.,   8.,   8.,  10.,  10.,  12.])"
       ]
      }
     ],
     "prompt_number": 143
    },
    {
     "cell_type": "markdown",
     "metadata": {},
     "source": [
      "Algunas funciones estadisticas."
     ]
    },
    {
     "cell_type": "heading",
     "level": 2,
     "metadata": {},
     "source": [
      "La media"
     ]
    },
    {
     "cell_type": "code",
     "collapsed": false,
     "input": [
      "%R sum(x)/length(x)"
     ],
     "language": "python",
     "metadata": {},
     "outputs": [
      {
       "metadata": {},
       "output_type": "pyout",
       "prompt_number": 57,
       "text": [
        "array([ 5.5])"
       ]
      }
     ],
     "prompt_number": 57
    },
    {
     "cell_type": "markdown",
     "metadata": {},
     "source": [
      "que en R se puede hacer con la funcion \"mean\""
     ]
    },
    {
     "cell_type": "code",
     "collapsed": false,
     "input": [
      "%R mean(x)"
     ],
     "language": "python",
     "metadata": {},
     "outputs": [
      {
       "metadata": {},
       "output_type": "pyout",
       "prompt_number": 58,
       "text": [
        "array([ 5.5])"
       ]
      }
     ],
     "prompt_number": 58
    },
    {
     "cell_type": "heading",
     "level": 2,
     "metadata": {},
     "source": [
      "La varianza"
     ]
    },
    {
     "cell_type": "code",
     "collapsed": false,
     "input": [
      "%R sum((x-mean(x))^2)/(length(x)-1)"
     ],
     "language": "python",
     "metadata": {},
     "outputs": [
      {
       "metadata": {},
       "output_type": "pyout",
       "prompt_number": 59,
       "text": [
        "array([ 1.66666667])"
       ]
      }
     ],
     "prompt_number": 59
    },
    {
     "cell_type": "markdown",
     "metadata": {},
     "source": [
      "que en R se hace con la funcion \"var\""
     ]
    },
    {
     "cell_type": "code",
     "collapsed": false,
     "input": [
      "%R var(x)"
     ],
     "language": "python",
     "metadata": {},
     "outputs": [
      {
       "metadata": {},
       "output_type": "pyout",
       "prompt_number": 61,
       "text": [
        "array([ 1.66666667])"
       ]
      }
     ],
     "prompt_number": 61
    },
    {
     "cell_type": "markdown",
     "metadata": {},
     "source": [
      "Si el argumento de var() en R es una matriz n \u00d7 p, el resultado es la matriz de cuasi-covarianzas p\u00d7p correspondiente a interpretar las filas como vectores muestrales p-variantes."
     ]
    },
    {
     "cell_type": "markdown",
     "metadata": {},
     "source": [
      "Los vecores se pueden ordenar en R con la funcion \"sort\""
     ]
    },
    {
     "cell_type": "code",
     "collapsed": false,
     "input": [
      "%R sort(x)"
     ],
     "language": "python",
     "metadata": {},
     "outputs": [
      {
       "metadata": {},
       "output_type": "pyout",
       "prompt_number": 63,
       "text": [
        "array([4, 5, 6, 7], dtype=int32)"
       ]
      }
     ],
     "prompt_number": 63
    },
    {
     "cell_type": "markdown",
     "metadata": {},
     "source": [
      "Tambien R permite buscar m\u00e1ximos y m\u00ednimos. Si se usa mas de un vectore como par\u00e1metro los une a todos y devuelve solo un m\u00e1ximo o m\u00ednimo."
     ]
    },
    {
     "cell_type": "code",
     "collapsed": false,
     "input": [
      "%R max(x, y)"
     ],
     "language": "python",
     "metadata": {},
     "outputs": [
      {
       "metadata": {},
       "output_type": "pyout",
       "prompt_number": 69,
       "text": [
        "array([12], dtype=int32)"
       ]
      }
     ],
     "prompt_number": 69
    },
    {
     "cell_type": "code",
     "collapsed": false,
     "input": [
      "%R min(x)"
     ],
     "language": "python",
     "metadata": {},
     "outputs": [
      {
       "metadata": {},
       "output_type": "pyout",
       "prompt_number": 65,
       "text": [
        "array([4], dtype=int32)"
       ]
      }
     ],
     "prompt_number": 65
    },
    {
     "cell_type": "markdown",
     "metadata": {},
     "source": [
      "Las funciones paralelas pmax y pmin devuelven un vector (de la misma longitud del argumento m\u00e1s largo) que contiene en cada elemento el mayor y\n",
      "a menor elemento de dicha posici\u00f3n de entre todos los vectores de entrada."
     ]
    },
    {
     "cell_type": "code",
     "collapsed": false,
     "input": [
      "%R pmax(y, x)"
     ],
     "language": "python",
     "metadata": {},
     "outputs": [
      {
       "metadata": {},
       "output_type": "pyout",
       "prompt_number": 72,
       "text": [
        "array([ 4,  5,  6,  7,  7,  8,  9, 10, 11, 12], dtype=int32)"
       ]
      }
     ],
     "prompt_number": 72
    },
    {
     "cell_type": "code",
     "collapsed": false,
     "input": [
      "%R pmin(x, y)"
     ],
     "language": "python",
     "metadata": {},
     "outputs": [
      {
       "metadata": {},
       "output_type": "pyout",
       "prompt_number": 73,
       "text": [
        "array([3, 4, 5, 6, 4, 5, 6, 7, 4, 5], dtype=int32)"
       ]
      }
     ],
     "prompt_number": 73
    },
    {
     "cell_type": "markdown",
     "metadata": {},
     "source": [
      "Para generar sucesiones se puede usar la funcion seq() que en su versi\u00f3n minima es lo mismo que el operador \":\".\n",
      "Por ejemplo seq(4,10) es igual a 4:10.\n",
      "La funcion seq dispone de 5 par\u00e1metros: from, to, by, length y along"
     ]
    },
    {
     "cell_type": "code",
     "collapsed": false,
     "input": [
      "%R seq(2,4)"
     ],
     "language": "python",
     "metadata": {},
     "outputs": [
      {
       "metadata": {},
       "output_type": "pyout",
       "prompt_number": 74,
       "text": [
        "array([2, 3, 4], dtype=int32)"
       ]
      }
     ],
     "prompt_number": 74
    },
    {
     "cell_type": "code",
     "collapsed": false,
     "input": [
      "%R seq(2,4,0.5)"
     ],
     "language": "python",
     "metadata": {},
     "outputs": [
      {
       "metadata": {},
       "output_type": "pyout",
       "prompt_number": 78,
       "text": [
        "array([ 2. ,  2.5,  3. ,  3.5,  4. ])"
       ]
      }
     ],
     "prompt_number": 78
    },
    {
     "cell_type": "code",
     "collapsed": false,
     "input": [
      "%R seq(from=2, by=0.2, length=12)"
     ],
     "language": "python",
     "metadata": {},
     "outputs": [
      {
       "metadata": {},
       "output_type": "pyout",
       "prompt_number": 77,
       "text": [
        "array([ 2. ,  2.2,  2.4,  2.6,  2.8,  3. ,  3.2,  3.4,  3.6,  3.8,  4. ,\n",
        "        4.2])"
       ]
      }
     ],
     "prompt_number": 77
    },
    {
     "cell_type": "markdown",
     "metadata": {},
     "source": [
      "Los primeros cuatro argumentos son intuitivos. El quinto \"along\" solo puede usarse solo y solo se usa para construir un vector del mismo tama\u00f1o del vector que se pasa como par\u00e1metro."
     ]
    },
    {
     "cell_type": "code",
     "collapsed": false,
     "input": [
      "%R seq(along=x)"
     ],
     "language": "python",
     "metadata": {},
     "outputs": [
      {
       "metadata": {},
       "output_type": "pyout",
       "prompt_number": 79,
       "text": [
        "array([1, 2, 3, 4], dtype=int32)"
       ]
      }
     ],
     "prompt_number": 79
    },
    {
     "cell_type": "markdown",
     "metadata": {},
     "source": [
      "Vectores (o valores) l\u00f3gicos"
     ]
    },
    {
     "cell_type": "code",
     "collapsed": false,
     "input": [
      "%R z <- x > 4"
     ],
     "language": "python",
     "metadata": {},
     "outputs": [
      {
       "metadata": {},
       "output_type": "pyout",
       "prompt_number": 80,
       "text": [
        "array([0, 1, 1, 1], dtype=int32)"
       ]
      }
     ],
     "prompt_number": 80
    },
    {
     "cell_type": "code",
     "collapsed": false,
     "input": [
      "Los vectores se pueden redimensionar dinamicamente"
     ],
     "language": "python",
     "metadata": {},
     "outputs": []
    },
    {
     "cell_type": "code",
     "collapsed": false,
     "input": [
      "%R x[9] <- 0\n",
      "%R x"
     ],
     "language": "python",
     "metadata": {},
     "outputs": [
      {
       "metadata": {},
       "output_type": "pyout",
       "prompt_number": 89,
       "text": [
        "array([  4.,   5.,   6.,   7.,  nan,  nan,  nan,  nan,   0.])"
       ]
      }
     ],
     "prompt_number": 89
    },
    {
     "cell_type": "markdown",
     "metadata": {},
     "source": [
      "Los operadores l\u00f3gicos son los mismos que en otros lenguajes < > <= >= | !"
     ]
    },
    {
     "cell_type": "code",
     "collapsed": false,
     "input": [
      "%R z <- is.na(x) # la funcion is.na devuelve boolean sobre si un valor es es \"na\"\n",
      "# (nulo o no disponible, por ejemplo division por cero)"
     ],
     "language": "python",
     "metadata": {},
     "outputs": [
      {
       "metadata": {},
       "output_type": "pyout",
       "prompt_number": 97,
       "text": [
        "array([0, 0, 0, 0, 1, 1, 1, 1, 0], dtype=int32)"
       ]
      }
     ],
     "prompt_number": 97
    },
    {
     "cell_type": "heading",
     "level": 2,
     "metadata": {},
     "source": [
      "Subconjuntos de un vector en R"
     ]
    },
    {
     "cell_type": "markdown",
     "metadata": {},
     "source": [
      "Para filtrar un vector o elegir uno o m\u00e1s elementos de este existe cuantro formas distintas"
     ]
    },
    {
     "cell_type": "heading",
     "level": 3,
     "metadata": {},
     "source": [
      "1.- Indices numericos"
     ]
    },
    {
     "cell_type": "code",
     "collapsed": false,
     "input": [
      "%R x[c(1,3)] # tomar el primer y tercer elemento del array"
     ],
     "language": "python",
     "metadata": {},
     "outputs": [
      {
       "metadata": {},
       "output_type": "pyout",
       "prompt_number": 100,
       "text": [
        "array([ 4.,  6.])"
       ]
      }
     ],
     "prompt_number": 100
    },
    {
     "cell_type": "code",
     "collapsed": false,
     "input": [
      "%R x[3:5] # los elementos 3, 4 y 5"
     ],
     "language": "python",
     "metadata": {},
     "outputs": [
      {
       "metadata": {},
       "output_type": "pyout",
       "prompt_number": 111,
       "text": [
        "array([ 6.,  7.,  5.])"
       ]
      }
     ],
     "prompt_number": 111
    },
    {
     "cell_type": "code",
     "collapsed": false,
     "input": [
      "%R x[2] # tomar solo el segundo elemento"
     ],
     "language": "python",
     "metadata": {},
     "outputs": [
      {
       "metadata": {},
       "output_type": "pyout",
       "prompt_number": 102,
       "text": [
        "array([ 5.])"
       ]
      }
     ],
     "prompt_number": 102
    },
    {
     "cell_type": "heading",
     "level": 3,
     "metadata": {},
     "source": [
      "2.- Indices l\u00f3gicos"
     ]
    },
    {
     "cell_type": "code",
     "collapsed": false,
     "input": [
      "%R x[x>5 & !is.na(x)] # solo los elementos mayores que que 5 y que ademas no sean nulos"
     ],
     "language": "python",
     "metadata": {},
     "outputs": [
      {
       "metadata": {},
       "output_type": "pyout",
       "prompt_number": 105,
       "text": [
        "array([ 6.,  7.])"
       ]
      }
     ],
     "prompt_number": 105
    },
    {
     "cell_type": "code",
     "collapsed": false,
     "input": [
      "%R x[is.na(x)] <- 5 # asignar un 5 a todos los elementos del vector que sean nulos"
     ],
     "language": "python",
     "metadata": {},
     "outputs": [
      {
       "metadata": {},
       "output_type": "pyout",
       "prompt_number": 110,
       "text": [
        "array([ 5.])"
       ]
      }
     ],
     "prompt_number": 110
    },
    {
     "cell_type": "code",
     "collapsed": false,
     "input": [
      "%R x"
     ],
     "language": "python",
     "metadata": {},
     "outputs": [
      {
       "metadata": {},
       "output_type": "pyout",
       "prompt_number": 109,
       "text": [
        "array([ 4.,  5.,  6.,  7.,  5.,  5.,  5.,  5.,  0.])"
       ]
      }
     ],
     "prompt_number": 109
    },
    {
     "cell_type": "heading",
     "level": 3,
     "metadata": {},
     "source": [
      "3.- Indices de n\u00fameros negativos"
     ]
    },
    {
     "cell_type": "markdown",
     "metadata": {},
     "source": [
      "Estos indican exclusion"
     ]
    },
    {
     "cell_type": "code",
     "collapsed": false,
     "input": [
      "%R x[-(2:6)] # todos los elementos de x salvo del segundo al sexto)"
     ],
     "language": "python",
     "metadata": {},
     "outputs": [
      {
       "metadata": {},
       "output_type": "pyout",
       "prompt_number": 114,
       "text": [
        "array([ 4.,  5.,  5.,  0.])"
       ]
      }
     ],
     "prompt_number": 114
    },
    {
     "cell_type": "code",
     "collapsed": false,
     "input": [
      "%R x[-1] # todos menos el primero"
     ],
     "language": "python",
     "metadata": {},
     "outputs": [
      {
       "metadata": {},
       "output_type": "pyout",
       "prompt_number": 116,
       "text": [
        "array([ 5.,  6.,  7.,  5.,  5.,  5.,  5.,  0.])"
       ]
      }
     ],
     "prompt_number": 116
    },
    {
     "cell_type": "heading",
     "level": 3,
     "metadata": {},
     "source": [
      "4.- Indices de cadenas de caracteres"
     ]
    },
    {
     "cell_type": "markdown",
     "metadata": {},
     "source": [
      "Como un diccionario de datos solo usando la funcion \"name\" que define los nombres de los campos de un vector"
     ]
    },
    {
     "cell_type": "code",
     "collapsed": false,
     "input": [
      "%R x"
     ],
     "language": "python",
     "metadata": {},
     "outputs": [
      {
       "metadata": {},
       "output_type": "pyout",
       "prompt_number": 117,
       "text": [
        "array([ 4.,  5.,  6.,  7.,  5.,  5.,  5.,  5.,  0.])"
       ]
      }
     ],
     "prompt_number": 117
    },
    {
     "cell_type": "code",
     "collapsed": false,
     "input": [
      "%R names(x) <- c(\"campo1\", \"campo2\", \"campo3\", \"campo4\", \"campo5\", \"campo6\", \"campo7\", \"campo8\")"
     ],
     "language": "python",
     "metadata": {},
     "outputs": [
      {
       "metadata": {},
       "output_type": "pyout",
       "prompt_number": 118,
       "text": [
        "array(['campo1', 'campo2', 'campo3', 'campo4', 'campo5', 'campo6',\n",
        "       'campo7', 'campo8'], \n",
        "      dtype='|S6')"
       ]
      }
     ],
     "prompt_number": 118
    },
    {
     "cell_type": "code",
     "collapsed": false,
     "input": [
      "%R x[\"campo4\"] # es una forma mas comprensible de acceder a los datos"
     ],
     "language": "python",
     "metadata": {},
     "outputs": [
      {
       "metadata": {},
       "output_type": "pyout",
       "prompt_number": 120,
       "text": [
        "array([ 7.])"
       ]
      }
     ],
     "prompt_number": 120
    },
    {
     "cell_type": "code",
     "collapsed": false,
     "input": [
      "%R x[\"campo4\"] * x[\"campo2\"]"
     ],
     "language": "python",
     "metadata": {},
     "outputs": [
      {
       "metadata": {},
       "output_type": "pyout",
       "prompt_number": 121,
       "text": [
        "array([ 35.])"
       ]
      }
     ],
     "prompt_number": 121
    },
    {
     "cell_type": "markdown",
     "metadata": {},
     "source": [
      "Los vectores no son lo \u00fanico en R, hay otros tipos de de objetos. La funcion \"mode\" nos dice de que tipo es un objeto. \n",
      "En el caso de un vector (y como solo contienen elementos de un solo tipo) nos indica que tipo de datos tiene ese vector."
     ]
    },
    {
     "cell_type": "code",
     "collapsed": false,
     "input": [
      "%R mode(x)"
     ],
     "language": "python",
     "metadata": {},
     "outputs": [
      {
       "metadata": {},
       "output_type": "pyout",
       "prompt_number": 123,
       "text": [
        "array(['numeric'], \n",
        "      dtype='|S7')"
       ]
      }
     ],
     "prompt_number": 123
    },
    {
     "cell_type": "markdown",
     "metadata": {},
     "source": [
      "Podemos convertir numeros a cadenas de caracteres"
     ]
    },
    {
     "cell_type": "code",
     "collapsed": false,
     "input": [
      "%R x <- as.character(x)"
     ],
     "language": "python",
     "metadata": {},
     "outputs": [
      {
       "metadata": {},
       "output_type": "pyout",
       "prompt_number": 124,
       "text": [
        "array(['4', '5', '6', '7', '5', '5', '5', '5', '0'], \n",
        "      dtype='|S1')"
       ]
      }
     ],
     "prompt_number": 124
    },
    {
     "cell_type": "markdown",
     "metadata": {},
     "source": [
      "y volver a numeros"
     ]
    },
    {
     "cell_type": "code",
     "collapsed": false,
     "input": [
      "%R x <- as.integer(x)"
     ],
     "language": "python",
     "metadata": {},
     "outputs": [
      {
       "metadata": {},
       "output_type": "pyout",
       "prompt_number": 126,
       "text": [
        "array([4, 5, 6, 7, 5, 5, 5, 5, 0], dtype=int32)"
       ]
      }
     ],
     "prompt_number": 126
    },
    {
     "cell_type": "heading",
     "level": 2,
     "metadata": {},
     "source": [
      "Factores"
     ]
    },
    {
     "cell_type": "markdown",
     "metadata": {},
     "source": [
      "Son vectores que especifican una clasificacion de otro vector del mismo tama\u00f1o."
     ]
    },
    {
     "cell_type": "code",
     "collapsed": false,
     "input": [
      "%R x"
     ],
     "language": "python",
     "metadata": {},
     "outputs": [
      {
       "metadata": {},
       "output_type": "pyout",
       "prompt_number": 159,
       "text": [
        "array([ 1,  2,  3,  4,  5,  6,  7,  8,  9, 10], dtype=int32)"
       ]
      }
     ],
     "prompt_number": 159
    },
    {
     "cell_type": "code",
     "collapsed": false,
     "input": [
      "%R prov <- c(\"cordoba\", \"caba\", \"mendoza\", \"mendoza\",\"cordoba\", \"cordoba\",\"caba\",\"caba\",\"caba\",\"cordoba\")"
     ],
     "language": "python",
     "metadata": {},
     "outputs": [
      {
       "metadata": {},
       "output_type": "pyout",
       "prompt_number": 161,
       "text": [
        "array(['cordoba', 'caba', 'mendoza', 'mendoza', 'cordoba', 'cordoba',\n",
        "       'caba', 'caba', 'caba', 'cordoba'], \n",
        "      dtype='|S7')"
       ]
      }
     ],
     "prompt_number": 161
    },
    {
     "cell_type": "code",
     "collapsed": false,
     "input": [
      "%R Factor_prov <- factor(prov)\n",
      "%R levels(factor_prov) # identificar cada \"factor\""
     ],
     "language": "python",
     "metadata": {},
     "outputs": [
      {
       "metadata": {},
       "output_type": "pyout",
       "prompt_number": 191,
       "text": [
        "array(['caba', 'cordoba', 'mendoza'], \n",
        "      dtype='|S7')"
       ]
      }
     ],
     "prompt_number": 191
    },
    {
     "cell_type": "heading",
     "level": 2,
     "metadata": {},
     "source": [
      "Variables desastradas (ragged arrays)"
     ]
    },
    {
     "cell_type": "markdown",
     "metadata": {},
     "source": [
      "La funcion tapply aplica una funcion a un vector teniendo en cuenta la clasificacion de los factores.\n",
      "tapply(vector_numeros, factores, funcion_a_aplicar)"
     ]
    },
    {
     "cell_type": "code",
     "collapsed": false,
     "input": [
      "%R medias <- tapply(x, Factor_prov, mean)"
     ],
     "language": "python",
     "metadata": {},
     "outputs": [
      {
       "metadata": {},
       "output_type": "pyout",
       "prompt_number": 177,
       "text": [
        "array([ 6.5,  5.5,  3.5])"
       ]
      }
     ],
     "prompt_number": 177
    },
    {
     "cell_type": "code",
     "collapsed": false,
     "input": [
      "%R medias[\"caba\"]"
     ],
     "language": "python",
     "metadata": {},
     "outputs": [
      {
       "metadata": {},
       "output_type": "pyout",
       "prompt_number": 178,
       "text": [
        "array([ 6.5])"
       ]
      }
     ],
     "prompt_number": 178
    },
    {
     "cell_type": "code",
     "collapsed": false,
     "input": [
      "%R medias[\"cordoba\"]"
     ],
     "language": "python",
     "metadata": {},
     "outputs": [
      {
       "metadata": {},
       "output_type": "pyout",
       "prompt_number": 179,
       "text": [
        "array([ 5.5])"
       ]
      }
     ],
     "prompt_number": 179
    },
    {
     "cell_type": "markdown",
     "metadata": {},
     "source": [
      "Tambien podemos definir nuestras propias funciones y aplicarlas aqui"
     ]
    },
    {
     "cell_type": "code",
     "collapsed": false,
     "input": [
      "%R myfunc <- function(x) sqrt(length(x) / sqrt(x)) #una funcion cualquiera.\n",
      "%R myvalues <- tapply(x, Factor_prov, myfunc)"
     ],
     "language": "python",
     "metadata": {},
     "outputs": [
      {
       "metadata": {},
       "output_type": "pyout",
       "prompt_number": 190,
       "text": [
        "array([<rpy2.rinterface.SexpVector - Python:0x5340708 / R:0x5251958>,\n",
        "       <rpy2.rinterface.SexpVector - Python:0x5340558 / R:0x3a401d8>,\n",
        "       <rpy2.rinterface.SexpVector - Python:0x5340420 / R:0x3a237e0>], dtype=object)"
       ]
      }
     ],
     "prompt_number": 190
    },
    {
     "cell_type": "code",
     "collapsed": false,
     "input": [
      "%R myvalues[\"caba\"]"
     ],
     "language": "python",
     "metadata": {},
     "outputs": [
      {
       "metadata": {},
       "output_type": "pyout",
       "prompt_number": 188,
       "text": [
        "array([[ 1.68179283,  1.22957631,  1.18920712,  1.15470054]])"
       ]
      }
     ],
     "prompt_number": 188
    },
    {
     "cell_type": "heading",
     "level": 2,
     "metadata": {},
     "source": [
      "Variables indexadas (Arrays)"
     ]
    },
    {
     "cell_type": "markdown",
     "metadata": {},
     "source": [
      "Una variable indexada (array) es una colecci\u00f3n de datos, indexada por varios  \u0301\n",
      "\u0131ndices. \n",
      "R permite crear y manipular variables indexadas en general y en\n",
      "particular, matrices. \n",
      "Un vector puede transformarse en una variable indexada cuando se asigna un vector de dimensiones al atributo dim. Supongamos, por ejemplo, que z es un vector de 1500 elementos. \n",
      "\n"
     ]
    },
    {
     "cell_type": "code",
     "collapsed": false,
     "input": [
      "%R z <- c(1:150)\n",
      "%R dim(z) <- c(3,5,10) # hace que R considere a \"z\" como una variable indexada de dimensiones 3 \u00d7 5 \u00d7 10."
     ],
     "language": "python",
     "metadata": {},
     "outputs": [
      {
       "metadata": {},
       "output_type": "pyout",
       "prompt_number": 196,
       "text": [
        "array([  3.,   5.,  10.])"
       ]
      }
     ],
     "prompt_number": 196
    },
    {
     "cell_type": "markdown",
     "metadata": {},
     "source": [
      "Por ejemplo, si se define una variable indexada, a, con vector de dimensiones c(3,4,2), la variable indexada tendr \u0301 3\u00d74\u00d72 = 24 elementos que se formar\u00e1n a partir de los elementos originales en el orden a[1,1,1], a[2,1,1], ..., a[2,4,2], a[3,4,2].\n"
     ]
    },
    {
     "cell_type": "code",
     "collapsed": false,
     "input": [
      "%R z[1, 1, 1]"
     ],
     "language": "python",
     "metadata": {},
     "outputs": [
      {
       "metadata": {},
       "output_type": "pyout",
       "prompt_number": 197,
       "text": [
        "array([1], dtype=int32)"
       ]
      }
     ],
     "prompt_number": 197
    },
    {
     "cell_type": "code",
     "collapsed": false,
     "input": [
      "%R z[2, 1, 1]"
     ],
     "language": "python",
     "metadata": {},
     "outputs": [
      {
       "metadata": {},
       "output_type": "pyout",
       "prompt_number": 199,
       "text": [
        "array([2], dtype=int32)"
       ]
      }
     ],
     "prompt_number": 199
    },
    {
     "cell_type": "code",
     "collapsed": false,
     "input": [
      "%R z[3, 1, 1]"
     ],
     "language": "python",
     "metadata": {},
     "outputs": [
      {
       "metadata": {},
       "output_type": "pyout",
       "prompt_number": 200,
       "text": [
        "array([3], dtype=int32)"
       ]
      }
     ],
     "prompt_number": 200
    },
    {
     "cell_type": "code",
     "collapsed": false,
     "input": [
      "%R z[4, 1, 1] # fuera del rango"
     ],
     "language": "python",
     "metadata": {},
     "outputs": [
      {
       "output_type": "stream",
       "stream": "stdout",
       "text": [
        "Error in eval(expr, envir, enclos) : subscript out of bounds\n"
       ]
      }
     ],
     "prompt_number": 202
    },
    {
     "cell_type": "code",
     "collapsed": false,
     "input": [
      "%R z[2, 5, 10]"
     ],
     "language": "python",
     "metadata": {},
     "outputs": [
      {
       "metadata": {},
       "output_type": "pyout",
       "prompt_number": 206,
       "text": [
        "array([149], dtype=int32)"
       ]
      }
     ],
     "prompt_number": 206
    },
    {
     "cell_type": "code",
     "collapsed": false,
     "input": [
      "%R z[3, 5, 10] # el ultimo indice es el que se mueve mas lento. \n",
      "# El primero es el m\u00e1s rapido si queremos recorer la matriz ordenadamente.\n",
      "# Este comportamiento es como en Fortran"
     ],
     "language": "python",
     "metadata": {},
     "outputs": [
      {
       "metadata": {},
       "output_type": "pyout",
       "prompt_number": 222,
       "text": [
        "array([150], dtype=int32)"
       ]
      }
     ],
     "prompt_number": 222
    },
    {
     "cell_type": "markdown",
     "metadata": {},
     "source": [
      "Tambien podemos extraer partes de la matriz intuitivamente (?)"
     ]
    },
    {
     "cell_type": "code",
     "collapsed": false,
     "input": [
      "%R z[, 5, 10]"
     ],
     "language": "python",
     "metadata": {},
     "outputs": [
      {
       "metadata": {},
       "output_type": "pyout",
       "prompt_number": 212,
       "text": [
        "array([148, 149, 150], dtype=int32)"
       ]
      }
     ],
     "prompt_number": 212
    },
    {
     "cell_type": "code",
     "collapsed": false,
     "input": [
      "%R z[3, , 10]"
     ],
     "language": "python",
     "metadata": {},
     "outputs": [
      {
       "metadata": {},
       "output_type": "pyout",
       "prompt_number": 216,
       "text": [
        "array([138, 141, 144, 147, 150], dtype=int32)"
       ]
      }
     ],
     "prompt_number": 216
    },
    {
     "cell_type": "code",
     "collapsed": false,
     "input": [
      "%R z[3, 5, ]"
     ],
     "language": "python",
     "metadata": {},
     "outputs": [
      {
       "metadata": {},
       "output_type": "pyout",
       "prompt_number": 217,
       "text": [
        "array([ 15,  30,  45,  60,  75,  90, 105, 120, 135, 150], dtype=int32)"
       ]
      }
     ],
     "prompt_number": 217
    },
    {
     "cell_type": "code",
     "collapsed": false,
     "input": [
      "%R z"
     ],
     "language": "python",
     "metadata": {},
     "outputs": [
      {
       "metadata": {},
       "output_type": "pyout",
       "prompt_number": 220,
       "text": [
        "array([[[  1,  16,  31,  46,  61,  76,  91, 106, 121, 136],\n",
        "        [  4,  19,  34,  49,  64,  79,  94, 109, 124, 139],\n",
        "        [  7,  22,  37,  52,  67,  82,  97, 112, 127, 142],\n",
        "        [ 10,  25,  40,  55,  70,  85, 100, 115, 130, 145],\n",
        "        [ 13,  28,  43,  58,  73,  88, 103, 118, 133, 148]],\n",
        "\n",
        "       [[  2,  17,  32,  47,  62,  77,  92, 107, 122, 137],\n",
        "        [  5,  20,  35,  50,  65,  80,  95, 110, 125, 140],\n",
        "        [  8,  23,  38,  53,  68,  83,  98, 113, 128, 143],\n",
        "        [ 11,  26,  41,  56,  71,  86, 101, 116, 131, 146],\n",
        "        [ 14,  29,  44,  59,  74,  89, 104, 119, 134, 149]],\n",
        "\n",
        "       [[  3,  18,  33,  48,  63,  78,  93, 108, 123, 138],\n",
        "        [  6,  21,  36,  51,  66,  81,  96, 111, 126, 141],\n",
        "        [  9,  24,  39,  54,  69,  84,  99, 114, 129, 144],\n",
        "        [ 12,  27,  42,  57,  72,  87, 102, 117, 132, 147],\n",
        "        [ 15,  30,  45,  60,  75,  90, 105, 120, 135, 150]]], dtype=int32)"
       ]
      }
     ],
     "prompt_number": 220
    },
    {
     "cell_type": "code",
     "collapsed": false,
     "input": [
      "%R z[1, , ]"
     ],
     "language": "python",
     "metadata": {},
     "outputs": [
      {
       "metadata": {},
       "output_type": "pyout",
       "prompt_number": 221,
       "text": [
        "array([[  1,  16,  31,  46,  61,  76,  91, 106, 121, 136],\n",
        "       [  4,  19,  34,  49,  64,  79,  94, 109, 124, 139],\n",
        "       [  7,  22,  37,  52,  67,  82,  97, 112, 127, 142],\n",
        "       [ 10,  25,  40,  55,  70,  85, 100, 115, 130, 145],\n",
        "       [ 13,  28,  43,  58,  73,  88, 103, 118, 133, 148]], dtype=int32)"
       ]
      }
     ],
     "prompt_number": 221
    },
    {
     "cell_type": "markdown",
     "metadata": {},
     "source": [
      "Tambien puede hacer matrices mas r\u00e1pidamente con la funciona array()"
     ]
    },
    {
     "cell_type": "code",
     "collapsed": false,
     "input": [
      "%R x <- array(1:20,dim=c(4,5)) # Genera una variable indexada (4 \u00d7 5).\n",
      "%R x"
     ],
     "language": "python",
     "metadata": {},
     "outputs": [
      {
       "metadata": {},
       "output_type": "pyout",
       "prompt_number": 224,
       "text": [
        "array([[ 1,  5,  9, 13, 17],\n",
        "       [ 2,  6, 10, 14, 18],\n",
        "       [ 3,  7, 11, 15, 19],\n",
        "       [ 4,  8, 12, 16, 20]], dtype=int32)"
       ]
      }
     ],
     "prompt_number": 224
    },
    {
     "cell_type": "code",
     "collapsed": false,
     "input": [
      "%R x <- array(c(1:3,2:4,9:11), dim=c(3,3))"
     ],
     "language": "python",
     "metadata": {},
     "outputs": [
      {
       "metadata": {},
       "output_type": "pyout",
       "prompt_number": 228,
       "text": [
        "array([[ 1,  2,  9],\n",
        "       [ 2,  3, 10],\n",
        "       [ 3,  4, 11]], dtype=int32)"
       ]
      }
     ],
     "prompt_number": 228
    },
    {
     "cell_type": "markdown",
     "metadata": {},
     "source": [
      "Tambien podemos crear matrices r\u00e1pido con la funcion matrix."
     ]
    },
    {
     "cell_type": "code",
     "collapsed": false,
     "input": [
      "%R b <- matrix(5 , 2, 4)"
     ],
     "language": "python",
     "metadata": {},
     "outputs": [
      {
       "metadata": {},
       "output_type": "pyout",
       "prompt_number": 240,
       "text": [
        "array([[ 5.,  5.,  5.,  5.],\n",
        "       [ 5.,  5.,  5.,  5.]])"
       ]
      }
     ],
     "prompt_number": 240
    },
    {
     "cell_type": "code",
     "collapsed": false,
     "input": [
      "%R b <- matrix(c(3,4,5,6), 3, 3) # o tambien un poco mas complejas. \n",
      "# Ver que corren verticalmente desde la primera columna."
     ],
     "language": "python",
     "metadata": {},
     "outputs": [
      {
       "metadata": {},
       "output_type": "pyout",
       "prompt_number": 269,
       "text": [
        "array([[ 3.,  6.,  5.],\n",
        "       [ 4.,  3.,  6.],\n",
        "       [ 5.,  4.,  3.]])"
       ]
      }
     ],
     "prompt_number": 269
    },
    {
     "cell_type": "code",
     "collapsed": false,
     "input": [
      "%R c <- cbind(2:4, c(2, 5, 0), 4:6)"
     ],
     "language": "python",
     "metadata": {},
     "outputs": [
      {
       "metadata": {},
       "output_type": "pyout",
       "prompt_number": 270,
       "text": [
        "array([[ 2.,  2.,  4.],\n",
        "       [ 3.,  5.,  5.],\n",
        "       [ 4.,  0.,  6.]])"
       ]
      }
     ],
     "prompt_number": 270
    },
    {
     "cell_type": "code",
     "collapsed": false,
     "input": [
      "%R e <- b %o% c"
     ],
     "language": "python",
     "metadata": {},
     "outputs": [
      {
       "metadata": {},
       "output_type": "pyout",
       "prompt_number": 273,
       "text": [
        "array([[[[  6.,   6.,  12.],\n",
        "         [  9.,  15.,  15.],\n",
        "         [ 12.,   0.,  18.]],\n",
        "\n",
        "        [[ 12.,  12.,  24.],\n",
        "         [ 18.,  30.,  30.],\n",
        "         [ 24.,   0.,  36.]],\n",
        "\n",
        "        [[ 10.,  10.,  20.],\n",
        "         [ 15.,  25.,  25.],\n",
        "         [ 20.,   0.,  30.]]],\n",
        "\n",
        "\n",
        "       [[[  8.,   8.,  16.],\n",
        "         [ 12.,  20.,  20.],\n",
        "         [ 16.,   0.,  24.]],\n",
        "\n",
        "        [[  6.,   6.,  12.],\n",
        "         [  9.,  15.,  15.],\n",
        "         [ 12.,   0.,  18.]],\n",
        "\n",
        "        [[ 12.,  12.,  24.],\n",
        "         [ 18.,  30.,  30.],\n",
        "         [ 24.,   0.,  36.]]],\n",
        "\n",
        "\n",
        "       [[[ 10.,  10.,  20.],\n",
        "         [ 15.,  25.,  25.],\n",
        "         [ 20.,   0.,  30.]],\n",
        "\n",
        "        [[  8.,   8.,  16.],\n",
        "         [ 12.,  20.,  20.],\n",
        "         [ 16.,   0.,  24.]],\n",
        "\n",
        "        [[  6.,   6.,  12.],\n",
        "         [  9.,  15.,  15.],\n",
        "         [ 12.,   0.,  18.]]]])"
       ]
      }
     ],
     "prompt_number": 273
    },
    {
     "cell_type": "code",
     "collapsed": false,
     "input": [
      "%R b + c"
     ],
     "language": "python",
     "metadata": {},
     "outputs": [
      {
       "metadata": {},
       "output_type": "pyout",
       "prompt_number": 274,
       "text": [
        "array([[  5.,   8.,   9.],\n",
        "       [  7.,   8.,  11.],\n",
        "       [  9.,   4.,   9.]])"
       ]
      }
     ],
     "prompt_number": 274
    },
    {
     "cell_type": "code",
     "collapsed": false,
     "input": [
      "%R b[1,] + c[1,]"
     ],
     "language": "python",
     "metadata": {},
     "outputs": [
      {
       "metadata": {},
       "output_type": "pyout",
       "prompt_number": 275,
       "text": [
        "array([ 5.,  8.,  9.])"
       ]
      }
     ],
     "prompt_number": 275
    },
    {
     "cell_type": "markdown",
     "metadata": {},
     "source": [
      "Outer aplica sobre dos matrices una funcion"
     ]
    },
    {
     "cell_type": "code",
     "collapsed": false,
     "input": [
      "%R f <- function(x,y) x^2 + y^2\n",
      "%R outer(b, c, f)"
     ],
     "language": "python",
     "metadata": {},
     "outputs": [
      {
       "metadata": {},
       "output_type": "pyout",
       "prompt_number": 282,
       "text": [
        "array([[[[ 13.,  13.,  25.],\n",
        "         [ 18.,  34.,  34.],\n",
        "         [ 25.,   9.,  45.]],\n",
        "\n",
        "        [[ 40.,  40.,  52.],\n",
        "         [ 45.,  61.,  61.],\n",
        "         [ 52.,  36.,  72.]],\n",
        "\n",
        "        [[ 29.,  29.,  41.],\n",
        "         [ 34.,  50.,  50.],\n",
        "         [ 41.,  25.,  61.]]],\n",
        "\n",
        "\n",
        "       [[[ 20.,  20.,  32.],\n",
        "         [ 25.,  41.,  41.],\n",
        "         [ 32.,  16.,  52.]],\n",
        "\n",
        "        [[ 13.,  13.,  25.],\n",
        "         [ 18.,  34.,  34.],\n",
        "         [ 25.,   9.,  45.]],\n",
        "\n",
        "        [[ 40.,  40.,  52.],\n",
        "         [ 45.,  61.,  61.],\n",
        "         [ 52.,  36.,  72.]]],\n",
        "\n",
        "\n",
        "       [[[ 29.,  29.,  41.],\n",
        "         [ 34.,  50.,  50.],\n",
        "         [ 41.,  25.,  61.]],\n",
        "\n",
        "        [[ 20.,  20.,  32.],\n",
        "         [ 25.,  41.,  41.],\n",
        "         [ 32.,  16.,  52.]],\n",
        "\n",
        "        [[ 13.,  13.,  25.],\n",
        "         [ 18.,  34.,  34.],\n",
        "         [ 25.,   9.,  45.]]]])"
       ]
      }
     ],
     "prompt_number": 282
    },
    {
     "cell_type": "code",
     "collapsed": false,
     "input": [
      "%R f(b, c)"
     ],
     "language": "python",
     "metadata": {},
     "outputs": [
      {
       "metadata": {},
       "output_type": "pyout",
       "prompt_number": 284,
       "text": [
        "array([[ 13.,  40.,  41.],\n",
        "       [ 25.,  34.,  61.],\n",
        "       [ 41.,  16.,  45.]])"
       ]
      }
     ],
     "prompt_number": 284
    },
    {
     "cell_type": "code",
     "collapsed": false,
     "input": [
      "%R t(b) # transponer una matriz"
     ],
     "language": "python",
     "metadata": {},
     "outputs": [
      {
       "metadata": {},
       "output_type": "pyout",
       "prompt_number": 285,
       "text": [
        "array([[ 3.,  4.,  5.],\n",
        "       [ 6.,  3.,  4.],\n",
        "       [ 5.,  6.,  3.]])"
       ]
      }
     ],
     "prompt_number": 285
    },
    {
     "cell_type": "code",
     "collapsed": false,
     "input": [
      "%R b"
     ],
     "language": "python",
     "metadata": {},
     "outputs": [
      {
       "metadata": {},
       "output_type": "pyout",
       "prompt_number": 286,
       "text": [
        "array([[ 3.,  6.,  5.],\n",
        "       [ 4.,  3.,  6.],\n",
        "       [ 5.,  4.,  3.]])"
       ]
      }
     ],
     "prompt_number": 286
    },
    {
     "cell_type": "code",
     "collapsed": false,
     "input": [
      "%R diag(b) #extraer la diagonal de la matriz"
     ],
     "language": "python",
     "metadata": {},
     "outputs": [
      {
       "metadata": {},
       "output_type": "pyout",
       "prompt_number": 287,
       "text": [
        "array([ 3.,  3.,  3.])"
       ]
      }
     ],
     "prompt_number": 287
    },
    {
     "cell_type": "code",
     "collapsed": false,
     "input": [
      "%R diag(t(b))"
     ],
     "language": "python",
     "metadata": {},
     "outputs": [
      {
       "metadata": {},
       "output_type": "pyout",
       "prompt_number": 290,
       "text": [
        "array([ 3.,  3.,  3.])"
       ]
      }
     ],
     "prompt_number": 290
    },
    {
     "cell_type": "code",
     "collapsed": false,
     "input": [],
     "language": "python",
     "metadata": {},
     "outputs": []
    }
   ],
   "metadata": {}
  }
 ]
}